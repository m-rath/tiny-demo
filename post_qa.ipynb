{
 "cells": [
  {
   "cell_type": "code",
   "execution_count": null,
   "metadata": {},
   "outputs": [],
   "source": [
    "import requests"
   ]
  },
  {
   "cell_type": "code",
   "execution_count": null,
   "metadata": {},
   "outputs": [],
   "source": [
    "# NB: max sequence length is 384\n",
    "\n",
    "text = \"\"\"The use of language begins with imitation. The infant imitates the sounds \\\n",
    "made by its parents; the child imitates first the spoken language, then the stuff of \\\n",
    "books. The imitative life continues long after the writer is secure in the language, \\\n",
    "for it is almost impossible to avoid imitating what one admires. Never imitate \\\n",
    "consciously, but do not worry about being an imitator; take pains instead to admire \\\n",
    "what is good. Then when you write in a way that comes naturally, you will echo the \\\n",
    "halloos that bear repeating.\"\"\" # -- Strunk & White, The Elements of Style\n",
    "\n",
    "question = \"Is plagiarism ok?\""
   ]
  },
  {
   "cell_type": "code",
   "execution_count": null,
   "metadata": {},
   "outputs": [],
   "source": [
    "# Extract answer from text\n",
    "\n",
    "url = \"http://0.0.0.0:8000/extract_qa\"\n",
    "headers = {\"content-type\": \"application/json\", \"Accept-Charset\": \"UTF-8\"}\n",
    "\n",
    "result = requests.post(url, json={\"text\":text, \"question\":question}, headers=headers)\n",
    "result.json()"
   ]
  },
  {
   "cell_type": "code",
   "execution_count": null,
   "metadata": {},
   "outputs": [],
   "source": []
  }
 ],
 "metadata": {
  "kernelspec": {
   "display_name": "tiny-demo",
   "language": "python",
   "name": "python3"
  },
  "language_info": {
   "codemirror_mode": {
    "name": "ipython",
    "version": 3
   },
   "file_extension": ".py",
   "mimetype": "text/x-python",
   "name": "python",
   "nbconvert_exporter": "python",
   "pygments_lexer": "ipython3",
   "version": "3.10.11"
  },
  "orig_nbformat": 4
 },
 "nbformat": 4,
 "nbformat_minor": 2
}
