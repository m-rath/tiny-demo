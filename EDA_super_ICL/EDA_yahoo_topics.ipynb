{
  "cells": [
    {
      "attachments": {},
      "cell_type": "markdown",
      "metadata": {
        "id": "vrYtljvE59Ek"
      },
      "source": [
        "# EDA on a Hugging Face dataset"
      ]
    },
    {
      "attachments": {},
      "cell_type": "markdown",
      "metadata": {},
      "source": [
        "Fine-tuning the best Large Language Models (LLMs) is not an option: they are proprietary, accessible only via apps and APIs. Fine-tuning an open-source LLM is possible but not always practical or appealing. Thus, In-Context Learning (ICL) is a popular alternative, for those with the right custom data.\n",
        "\n",
        "Background: In-Context Learning (few-shot learning) involves augmentation at inference. The sequence ingested by the model is the unlabeled input concatenated with context (labeled examples) that primes the model toward desired output, albeit indirectly. In 2023, ICL is a hot topic.\n",
        "\n",
        "Challenge: Methods abound for selecting contextual exemplars per input, and the performance benefits of ICL vary dramatically across selection methods. New learning-based approaches show promise ([Ye et al.](https://arxiv.org/abs/2302.05698), [Xu et al.](https://arxiv.org/abs/2305.08848)), but require more labeled examples than do learning-free approaches. Other factors that moderate the influence of contextual subsets include relevance and diversity.\n",
        "\n",
        "Dataset: In 2015, [Zhang et al.](https://arxiv.org/abs/1509.01626) compiled several datasets, including one sourced from Yahoo that is available via Hugging Face. It includes 1.46 million question-answer pairs, labeled according to topic. The content comes from Yahoo Answers, a crowdsourced QA site deprecated in 2021 (content is from pre-2007).\n",
        "\n",
        "Goal: The present EDA will shed light on the suitability of this dataset for learning-based ICL methods, especially SuperICL and CEIL, in support of LLM-based generative QA as well as text classification."
      ]
    },
    {
      "cell_type": "code",
      "execution_count": 1,
      "metadata": {
        "id": "94nbC_4H59El"
      },
      "outputs": [],
      "source": [
        "import matplotlib.pyplot as plt\n",
        "from eda_funcs import *\n",
        "\n",
        "pd.set_option('max_colwidth', 200)"
      ]
    },
    {
      "attachments": {},
      "cell_type": "markdown",
      "metadata": {
        "id": "ZHpVtAcc59Em"
      },
      "source": [
        "## Check size"
      ]
    },
    {
      "cell_type": "code",
      "execution_count": 2,
      "metadata": {
        "id": "sh565PS459Em"
      },
      "outputs": [
        {
          "data": {
            "text/html": [
              "<div>\n",
              "<style scoped>\n",
              "    .dataframe tbody tr th:only-of-type {\n",
              "        vertical-align: middle;\n",
              "    }\n",
              "\n",
              "    .dataframe tbody tr th {\n",
              "        vertical-align: top;\n",
              "    }\n",
              "\n",
              "    .dataframe thead th {\n",
              "        text-align: right;\n",
              "    }\n",
              "</style>\n",
              "<table border=\"1\" class=\"dataframe\">\n",
              "  <thead>\n",
              "    <tr style=\"text-align: right;\">\n",
              "      <th></th>\n",
              "      <th>size in MB</th>\n",
              "      <th>number of examples</th>\n",
              "    </tr>\n",
              "  </thead>\n",
              "  <tbody>\n",
              "    <tr>\n",
              "      <th>train</th>\n",
              "      <td>725</td>\n",
              "      <td>1400000</td>\n",
              "    </tr>\n",
              "    <tr>\n",
              "      <th>test</th>\n",
              "      <td>31</td>\n",
              "      <td>60000</td>\n",
              "    </tr>\n",
              "  </tbody>\n",
              "</table>\n",
              "</div>"
            ],
            "text/plain": [
              "       size in MB  number of examples\n",
              "train         725             1400000\n",
              "test           31               60000"
            ]
          },
          "execution_count": 2,
          "metadata": {},
          "output_type": "execute_result"
        }
      ],
      "source": [
        "builder = datasets.load_dataset_builder('yahoo_answers_topics')\n",
        "show_size(builder)"
      ]
    },
    {
      "attachments": {},
      "cell_type": "markdown",
      "metadata": {},
      "source": [
        "## Download, preview sample"
      ]
    },
    {
      "cell_type": "code",
      "execution_count": 3,
      "metadata": {},
      "outputs": [
        {
          "name": "stderr",
          "output_type": "stream",
          "text": [
            "Found cached dataset yahoo_answers_topics (/home/mark/.cache/huggingface/datasets/yahoo_answers_topics/yahoo_answers_topics/1.0.0/0edb353eefe79d9245d7bd7cac5ae6af19530439da520d6dde1c206ee38f4439)\n",
            "Loading cached processed dataset at /home/mark/.cache/huggingface/datasets/yahoo_answers_topics/yahoo_answers_topics/1.0.0/0edb353eefe79d9245d7bd7cac5ae6af19530439da520d6dde1c206ee38f4439/cache-af313abec8be221e.arrow\n"
          ]
        },
        {
          "name": "stdout",
          "output_type": "stream",
          "text": [
            "number of rows: 43750\n",
            "\n"
          ]
        },
        {
          "data": {
            "text/html": [
              "<div>\n",
              "<style scoped>\n",
              "    .dataframe tbody tr th:only-of-type {\n",
              "        vertical-align: middle;\n",
              "    }\n",
              "\n",
              "    .dataframe tbody tr th {\n",
              "        vertical-align: top;\n",
              "    }\n",
              "\n",
              "    .dataframe thead th {\n",
              "        text-align: right;\n",
              "    }\n",
              "</style>\n",
              "<table border=\"1\" class=\"dataframe\">\n",
              "  <thead>\n",
              "    <tr style=\"text-align: right;\">\n",
              "      <th></th>\n",
              "      <th>id</th>\n",
              "      <th>label</th>\n",
              "      <th>question</th>\n",
              "      <th>answer</th>\n",
              "      <th>topic</th>\n",
              "    </tr>\n",
              "  </thead>\n",
              "  <tbody>\n",
              "    <tr>\n",
              "      <th>0</th>\n",
              "      <td>0</td>\n",
              "      <td>4</td>\n",
              "      <td>why doesn't an optical mouse work on a glass table?</td>\n",
              "      <td>Optical mice use an LED and a camera to rapidly capture images of the surface beneath the mouse.  The infomation from the camera is analyzed by a DSP (Digital Signal Processor) and used to detect ...</td>\n",
              "      <td>Computers &amp; Internet</td>\n",
              "    </tr>\n",
              "    <tr>\n",
              "      <th>1</th>\n",
              "      <td>32</td>\n",
              "      <td>5</td>\n",
              "      <td>Formula1 car</td>\n",
              "      <td>Let me break it down-\\nEngine- 3 liter V10.  Approximately 900+ hp, 19,000 rpm.  The engine weighs about 200 lbs.  It spins so fast that metal valve springs can't keep, the springs are pneumatic.\\...</td>\n",
              "      <td>Sports</td>\n",
              "    </tr>\n",
              "    <tr>\n",
              "      <th>2</th>\n",
              "      <td>64</td>\n",
              "      <td>0</td>\n",
              "      <td>Can anyone list the short name of the common names?</td>\n",
              "      <td>Al - Albert, Alfred, Alan&lt;br /&gt;\\nBob - Robert &lt;br /&gt;\\nBeth - Elizabeth &lt;br /&gt;\\nBill(y) - William &lt;br /&gt;\\nCathy - Catherine &lt;br /&gt;\\nChris - Christopher&lt;br /&gt;\\nDeb(bie) - Deborah, Debra &lt;br /&gt;\\nDick...</td>\n",
              "      <td>Society &amp; Culture</td>\n",
              "    </tr>\n",
              "    <tr>\n",
              "      <th>3</th>\n",
              "      <td>96</td>\n",
              "      <td>7</td>\n",
              "      <td>Who is Earth-2 Superman and how is he different from regular Superman?</td>\n",
              "      <td>It's relatively simple.  Back in 1961, DC Comics revealed that all of their Golden Age (c. 1939-1945) characters had lived on a different Earth from their Silver Age (c. 1956-1970) characters.  So...</td>\n",
              "      <td>Entertainment &amp; Music</td>\n",
              "    </tr>\n",
              "    <tr>\n",
              "      <th>4</th>\n",
              "      <td>128</td>\n",
              "      <td>1</td>\n",
              "      <td>Why do we get tickled when somebody tickles us and we don't when we tickle ourselves?</td>\n",
              "      <td>When we tickle ourselves, our mind knows in advance that is supposed to happen. So we develop some sort of a defence to counter the effect of the tickle.\\nWhen somebody else tickles us suddenly ou...</td>\n",
              "      <td>Science &amp; Mathematics</td>\n",
              "    </tr>\n",
              "  </tbody>\n",
              "</table>\n",
              "</div>"
            ],
            "text/plain": [
              "    id  label   \n",
              "0    0      4  \\\n",
              "1   32      5   \n",
              "2   64      0   \n",
              "3   96      7   \n",
              "4  128      1   \n",
              "\n",
              "                                                                                question   \n",
              "0                                    why doesn't an optical mouse work on a glass table?  \\\n",
              "1                                                                           Formula1 car   \n",
              "2                                    Can anyone list the short name of the common names?   \n",
              "3                 Who is Earth-2 Superman and how is he different from regular Superman?   \n",
              "4  Why do we get tickled when somebody tickles us and we don't when we tickle ourselves?   \n",
              "\n",
              "                                                                                                                                                                                                    answer   \n",
              "0  Optical mice use an LED and a camera to rapidly capture images of the surface beneath the mouse.  The infomation from the camera is analyzed by a DSP (Digital Signal Processor) and used to detect ...  \\\n",
              "1  Let me break it down-\\nEngine- 3 liter V10.  Approximately 900+ hp, 19,000 rpm.  The engine weighs about 200 lbs.  It spins so fast that metal valve springs can't keep, the springs are pneumatic.\\...   \n",
              "2  Al - Albert, Alfred, Alan<br />\\nBob - Robert <br />\\nBeth - Elizabeth <br />\\nBill(y) - William <br />\\nCathy - Catherine <br />\\nChris - Christopher<br />\\nDeb(bie) - Deborah, Debra <br />\\nDick...   \n",
              "3  It's relatively simple.  Back in 1961, DC Comics revealed that all of their Golden Age (c. 1939-1945) characters had lived on a different Earth from their Silver Age (c. 1956-1970) characters.  So...   \n",
              "4  When we tickle ourselves, our mind knows in advance that is supposed to happen. So we develop some sort of a defence to counter the effect of the tickle.\\nWhen somebody else tickles us suddenly ou...   \n",
              "\n",
              "                   topic  \n",
              "0   Computers & Internet  \n",
              "1                 Sports  \n",
              "2      Society & Culture  \n",
              "3  Entertainment & Music  \n",
              "4  Science & Mathematics  "
            ]
          },
          "execution_count": 3,
          "metadata": {},
          "output_type": "execute_result"
        }
      ],
      "source": [
        "ds = load_yahoo(split='train', num_shards=32, shard_index=0)\n",
        "print(f\"number of rows: {ds.num_rows}\\n\")\n",
        "ds[:5]"
      ]
    },
    {
      "cell_type": "code",
      "execution_count": 4,
      "metadata": {},
      "outputs": [
        {
          "data": {
            "text/plain": [
              "1"
            ]
          },
          "execution_count": 4,
          "metadata": {},
          "output_type": "execute_result"
        }
      ],
      "source": [
        "ds.cleanup_cache_files()"
      ]
    },
    {
      "attachments": {},
      "cell_type": "markdown",
      "metadata": {},
      "source": [
        "### Check topic balance"
      ]
    },
    {
      "cell_type": "code",
      "execution_count": 5,
      "metadata": {},
      "outputs": [
        {
          "data": {
            "text/html": [
              "<div>\n",
              "<style scoped>\n",
              "    .dataframe tbody tr th:only-of-type {\n",
              "        vertical-align: middle;\n",
              "    }\n",
              "\n",
              "    .dataframe tbody tr th {\n",
              "        vertical-align: top;\n",
              "    }\n",
              "\n",
              "    .dataframe thead th {\n",
              "        text-align: right;\n",
              "    }\n",
              "</style>\n",
              "<table border=\"1\" class=\"dataframe\">\n",
              "  <thead>\n",
              "    <tr style=\"text-align: right;\">\n",
              "      <th></th>\n",
              "      <th></th>\n",
              "      <th>count</th>\n",
              "    </tr>\n",
              "    <tr>\n",
              "      <th>label</th>\n",
              "      <th>topic</th>\n",
              "      <th></th>\n",
              "    </tr>\n",
              "  </thead>\n",
              "  <tbody>\n",
              "    <tr>\n",
              "      <th>0</th>\n",
              "      <th>Society &amp; Culture</th>\n",
              "      <td>4475</td>\n",
              "    </tr>\n",
              "    <tr>\n",
              "      <th>1</th>\n",
              "      <th>Science &amp; Mathematics</th>\n",
              "      <td>4187</td>\n",
              "    </tr>\n",
              "    <tr>\n",
              "      <th>2</th>\n",
              "      <th>Health</th>\n",
              "      <td>4404</td>\n",
              "    </tr>\n",
              "    <tr>\n",
              "      <th>3</th>\n",
              "      <th>Education &amp; Reference</th>\n",
              "      <td>4363</td>\n",
              "    </tr>\n",
              "    <tr>\n",
              "      <th>4</th>\n",
              "      <th>Computers &amp; Internet</th>\n",
              "      <td>4460</td>\n",
              "    </tr>\n",
              "    <tr>\n",
              "      <th>5</th>\n",
              "      <th>Sports</th>\n",
              "      <td>4393</td>\n",
              "    </tr>\n",
              "    <tr>\n",
              "      <th>6</th>\n",
              "      <th>Business &amp; Finance</th>\n",
              "      <td>4359</td>\n",
              "    </tr>\n",
              "    <tr>\n",
              "      <th>7</th>\n",
              "      <th>Entertainment &amp; Music</th>\n",
              "      <td>4339</td>\n",
              "    </tr>\n",
              "    <tr>\n",
              "      <th>8</th>\n",
              "      <th>Family &amp; Relationships</th>\n",
              "      <td>4456</td>\n",
              "    </tr>\n",
              "    <tr>\n",
              "      <th>9</th>\n",
              "      <th>Politics &amp; Government</th>\n",
              "      <td>4314</td>\n",
              "    </tr>\n",
              "  </tbody>\n",
              "</table>\n",
              "</div>"
            ],
            "text/plain": [
              "                              count\n",
              "label topic                        \n",
              "0     Society & Culture        4475\n",
              "1     Science & Mathematics    4187\n",
              "2     Health                   4404\n",
              "3     Education & Reference    4363\n",
              "4     Computers & Internet     4460\n",
              "5     Sports                   4393\n",
              "6     Business & Finance       4359\n",
              "7     Entertainment & Music    4339\n",
              "8     Family & Relationships   4456\n",
              "9     Politics & Government    4314"
            ]
          },
          "execution_count": 5,
          "metadata": {},
          "output_type": "execute_result"
        }
      ],
      "source": [
        "ds[:].value_counts(['label', 'topic']).to_frame().sort_index()"
      ]
    },
    {
      "attachments": {},
      "cell_type": "markdown",
      "metadata": {},
      "source": [
        "### Check missing values"
      ]
    },
    {
      "cell_type": "code",
      "execution_count": 6,
      "metadata": {
        "id": "17Vl9wh759Eq"
      },
      "outputs": [
        {
          "data": {
            "image/png": "[encoded data removed]",
            "text/plain": [
              "<Figure size 400x300 with 1 Axes>"
            ]
          },
          "metadata": {},
          "output_type": "display_data"
        }
      ],
      "source": [
        "ds[:].query(\"answer == ''\").groupby(['topic'])['id'].count().plot(\n",
        "    kind='barh', figsize=(4,3), title='Missing answers')\n",
        "plt.show()"
      ]
    },
    {
      "attachments": {},
      "cell_type": "markdown",
      "metadata": {},
      "source": [
        "### Inspect concise questions"
      ]
    },
    {
      "cell_type": "code",
      "execution_count": 7,
      "metadata": {
        "id": "rfsQv54y59Eq"
      },
      "outputs": [
        {
          "data": {
            "application/vnd.jupyter.widget-view+json": {
              "model_id": "8928506605f84418acfaa91942c92ddf",
              "version_major": 2,
              "version_minor": 0
            },
            "text/plain": [
              "Filter:   0%|          | 0/43750 [00:00<?, ? examples/s]"
            ]
          },
          "metadata": {},
          "output_type": "display_data"
        },
        {
          "data": {
            "application/vnd.jupyter.widget-view+json": {
              "model_id": "4c4091d9c927488e86937a392f715642",
              "version_major": 2,
              "version_minor": 0
            },
            "text/plain": [
              "Filter:   0%|          | 0/43750 [00:00<?, ? examples/s]"
            ]
          },
          "metadata": {},
          "output_type": "display_data"
        },
        {
          "data": {
            "text/html": [
              "<div>\n",
              "<style scoped>\n",
              "    .dataframe tbody tr th:only-of-type {\n",
              "        vertical-align: middle;\n",
              "    }\n",
              "\n",
              "    .dataframe tbody tr th {\n",
              "        vertical-align: top;\n",
              "    }\n",
              "\n",
              "    .dataframe thead th {\n",
              "        text-align: right;\n",
              "    }\n",
              "</style>\n",
              "<table border=\"1\" class=\"dataframe\">\n",
              "  <thead>\n",
              "    <tr style=\"text-align: right;\">\n",
              "      <th></th>\n",
              "      <th>1-word Questions</th>\n",
              "      <th>2-word Questions</th>\n",
              "    </tr>\n",
              "  </thead>\n",
              "  <tbody>\n",
              "    <tr>\n",
              "      <th>0</th>\n",
              "      <td>?????????????????</td>\n",
              "      <td>Formula1 car</td>\n",
              "    </tr>\n",
              "    <tr>\n",
              "      <th>1</th>\n",
              "      <td>Probibility?</td>\n",
              "      <td>what's environment?</td>\n",
              "    </tr>\n",
              "    <tr>\n",
              "      <th>2</th>\n",
              "      <td>hunting............................?</td>\n",
              "      <td>Oracle Financials?</td>\n",
              "    </tr>\n",
              "    <tr>\n",
              "      <th>3</th>\n",
              "      <td>motalebimran@yahoo.com?</td>\n",
              "      <td>Doggie DNA?</td>\n",
              "    </tr>\n",
              "    <tr>\n",
              "      <th>4</th>\n",
              "      <td>tannign......?</td>\n",
              "      <td>War yes/no?</td>\n",
              "    </tr>\n",
              "    <tr>\n",
              "      <th>5</th>\n",
              "      <td>how/to/talk/with/girls/to/attract/them?</td>\n",
              "      <td>Kissing tips?</td>\n",
              "    </tr>\n",
              "    <tr>\n",
              "      <th>6</th>\n",
              "      <td>tetraplegia?</td>\n",
              "      <td>its  riddle.?</td>\n",
              "    </tr>\n",
              "    <tr>\n",
              "      <th>7</th>\n",
              "      <td>Supernatural?</td>\n",
              "      <td>Phone System?</td>\n",
              "    </tr>\n",
              "    <tr>\n",
              "      <th>8</th>\n",
              "      <td>Help!!!!!!!!!!!!!!!!!!!!!!!!!!!!!!!!!!!!!!!!!!!!!!!!!!!!!!!!!!!!!!!!!!!!!!!!!!!!!!!!?</td>\n",
              "      <td>Trig Function?</td>\n",
              "    </tr>\n",
              "    <tr>\n",
              "      <th>9</th>\n",
              "      <td>Supplements?</td>\n",
              "      <td>again riddle?</td>\n",
              "    </tr>\n",
              "  </tbody>\n",
              "</table>\n",
              "</div>"
            ],
            "text/plain": [
              "                                                                        1-word Questions   \n",
              "0                                                                      ?????????????????  \\\n",
              "1                                                                           Probibility?   \n",
              "2                                                   hunting............................?   \n",
              "3                                                                motalebimran@yahoo.com?   \n",
              "4                                                                         tannign......?   \n",
              "5                                                how/to/talk/with/girls/to/attract/them?   \n",
              "6                                                                           tetraplegia?   \n",
              "7                                                                          Supernatural?   \n",
              "8  Help!!!!!!!!!!!!!!!!!!!!!!!!!!!!!!!!!!!!!!!!!!!!!!!!!!!!!!!!!!!!!!!!!!!!!!!!!!!!!!!!?   \n",
              "9                                                                           Supplements?   \n",
              "\n",
              "      2-word Questions  \n",
              "0         Formula1 car  \n",
              "1  what's environment?  \n",
              "2   Oracle Financials?  \n",
              "3          Doggie DNA?  \n",
              "4          War yes/no?  \n",
              "5        Kissing tips?  \n",
              "6        its  riddle.?  \n",
              "7        Phone System?  \n",
              "8       Trig Function?  \n",
              "9        again riddle?  "
            ]
          },
          "execution_count": 7,
          "metadata": {},
          "output_type": "execute_result"
        }
      ],
      "source": [
        "mono_q = ds.filter(lambda x: len(x['question'].split())==1)[:10]['question']\n",
        "duo_q = ds.filter(lambda x: len(x['question'].split())==2)[:10]['question']\n",
        "\n",
        "pd.DataFrame({'1-word Questions': mono_q, \n",
        "              '2-word Questions': duo_q})"
      ]
    },
    {
      "attachments": {},
      "cell_type": "markdown",
      "metadata": {},
      "source": [
        "### Drop rows with blank answers, blank questions, or 1-word questions; Review topic balance"
      ]
    },
    {
      "cell_type": "code",
      "execution_count": 8,
      "metadata": {},
      "outputs": [
        {
          "data": {
            "application/vnd.jupyter.widget-view+json": {
              "model_id": "ba0d7a981487421eac42600383afd4f4",
              "version_major": 2,
              "version_minor": 0
            },
            "text/plain": [
              "Filter:   0%|          | 0/43750 [00:00<?, ? examples/s]"
            ]
          },
          "metadata": {},
          "output_type": "display_data"
        },
        {
          "data": {
            "image/png": "[encoded data removed]",
            "text/plain": [
              "<Figure size 500x300 with 1 Axes>"
            ]
          },
          "metadata": {},
          "output_type": "display_data"
        }
      ],
      "source": [
        "ds = ds.filter(lambda x: x['answer'] != '' and x['question'] != '' and len(x['question'].split()) > 1)\n",
        "df = ds[:].value_counts(['label', 'topic']).to_frame().sort_index()\n",
        "df.plot(kind='barh', figsize=(5, 3), title='Examples per Topic', legend=False)\n",
        "plt.show()"
      ]
    },
    {
      "attachments": {},
      "cell_type": "markdown",
      "metadata": {},
      "source": [
        "### Preliminary observations"
      ]
    },
    {
      "attachments": {},
      "cell_type": "markdown",
      "metadata": {
        "id": "gxyWo1cl59Er"
      },
      "source": [
        "- This shard of the training dataset is large and balanced. For comparison, Rubin et al. use 44k examples to train a receiver for ICL. This Yahoo Answers dataset from huggingface is 32x that size.\n",
        "- As stated [elsewhere](https://en.wikipedia.org/wiki/Yahoo!_Answers), at least some examples appear silly, inarticulate, or worse."
      ]
    },
    {
      "attachments": {},
      "cell_type": "markdown",
      "metadata": {},
      "source": [
        "___"
      ]
    },
    {
      "attachments": {},
      "cell_type": "markdown",
      "metadata": {
        "id": "bAW-EM2t59Ew"
      },
      "source": [
        "## Check question quality"
      ]
    },
    {
      "attachments": {},
      "cell_type": "markdown",
      "metadata": {},
      "source": [
        "### How do questions begin?"
      ]
    },
    {
      "cell_type": "code",
      "execution_count": 9,
      "metadata": {},
      "outputs": [
        {
          "data": {
            "application/vnd.jupyter.widget-view+json": {
              "model_id": "5fef5dff25234986b36b4aa3dea017b7",
              "version_major": 2,
              "version_minor": 0
            },
            "text/plain": [
              "Map:   0%|          | 0/42747 [00:00<?, ? examples/s]"
            ]
          },
          "metadata": {},
          "output_type": "display_data"
        },
        {
          "data": {
            "image/png": "[encoded data removed]",
            "text/plain": [
              "<Figure size 600x400 with 2 Axes>"
            ]
          },
          "metadata": {},
          "output_type": "display_data"
        }
      ],
      "source": [
        "ds.reset_format()\n",
        "ds = ds.map(q_start)\n",
        "ds.set_format('pandas')\n",
        "plot_question_starters(ds)"
      ]
    },
    {
      "cell_type": "code",
      "execution_count": 10,
      "metadata": {
        "id": "g1trGxQo59Ew"
      },
      "outputs": [
        {
          "data": {
            "text/html": [
              "<div>\n",
              "<style scoped>\n",
              "    .dataframe tbody tr th:only-of-type {\n",
              "        vertical-align: middle;\n",
              "    }\n",
              "\n",
              "    .dataframe tbody tr th {\n",
              "        vertical-align: top;\n",
              "    }\n",
              "\n",
              "    .dataframe thead th {\n",
              "        text-align: right;\n",
              "    }\n",
              "</style>\n",
              "<table border=\"1\" class=\"dataframe\">\n",
              "  <thead>\n",
              "    <tr style=\"text-align: right;\">\n",
              "      <th></th>\n",
              "      <th>id</th>\n",
              "      <th>label</th>\n",
              "      <th>question</th>\n",
              "      <th>answer</th>\n",
              "      <th>topic</th>\n",
              "      <th>q_start</th>\n",
              "    </tr>\n",
              "  </thead>\n",
              "  <tbody>\n",
              "    <tr>\n",
              "      <th>23</th>\n",
              "      <td>736</td>\n",
              "      <td>3</td>\n",
              "      <td>I want to learning about Japanese grammar. So anyone help me?</td>\n",
              "      <td>Find you a copy of \"Genki - An integrated course in Elementary Japanese\" published by The Japan Times.  It's the best introduction to the language that I've found.  You may be able to find one at ...</td>\n",
              "      <td>Education &amp; Reference</td>\n",
              "      <td>i</td>\n",
              "    </tr>\n",
              "    <tr>\n",
              "      <th>46</th>\n",
              "      <td>1472</td>\n",
              "      <td>2</td>\n",
              "      <td>I need an energy boost...natural ingredients preferred...home remedies welcome?</td>\n",
              "      <td>Make sure to always eat breakfast.  I think instant oatmeal or yogurt is best.  Take a Ginseng and Fish Oil Supplement.  Do some breathing exercises before lunch.  Breathe in through you nose and ...</td>\n",
              "      <td>Health</td>\n",
              "      <td>i</td>\n",
              "    </tr>\n",
              "    <tr>\n",
              "      <th>47</th>\n",
              "      <td>1504</td>\n",
              "      <td>6</td>\n",
              "      <td>I worry too much about what others think of the questions I ask. Should I?</td>\n",
              "      <td>Just ask what you want. If you think that other people are going to theink it's a stupid question then forget them. If you have actually bothered to look at the questions that some people have ask...</td>\n",
              "      <td>Business &amp; Finance</td>\n",
              "      <td>i</td>\n",
              "    </tr>\n",
              "  </tbody>\n",
              "</table>\n",
              "</div>"
            ],
            "text/plain": [
              "      id  label   \n",
              "23   736      3  \\\n",
              "46  1472      2   \n",
              "47  1504      6   \n",
              "\n",
              "                                                                           question   \n",
              "23                    I want to learning about Japanese grammar. So anyone help me?  \\\n",
              "46  I need an energy boost...natural ingredients preferred...home remedies welcome?   \n",
              "47       I worry too much about what others think of the questions I ask. Should I?   \n",
              "\n",
              "                                                                                                                                                                                                     answer   \n",
              "23  Find you a copy of \"Genki - An integrated course in Elementary Japanese\" published by The Japan Times.  It's the best introduction to the language that I've found.  You may be able to find one at ...  \\\n",
              "46  Make sure to always eat breakfast.  I think instant oatmeal or yogurt is best.  Take a Ginseng and Fish Oil Supplement.  Do some breathing exercises before lunch.  Breathe in through you nose and ...   \n",
              "47  Just ask what you want. If you think that other people are going to theink it's a stupid question then forget them. If you have actually bothered to look at the questions that some people have ask...   \n",
              "\n",
              "                    topic q_start  \n",
              "23  Education & Reference       i  \n",
              "46                 Health       i  \n",
              "47     Business & Finance       i  "
            ]
          },
          "execution_count": 10,
          "metadata": {},
          "output_type": "execute_result"
        }
      ],
      "source": [
        "ds[:].query(\"q_start == 'i'\")[:3]"
      ]
    },
    {
      "cell_type": "code",
      "execution_count": 11,
      "metadata": {},
      "outputs": [],
      "source": [
        "ds = ds.remove_columns(['q_start'])"
      ]
    },
    {
      "attachments": {},
      "cell_type": "markdown",
      "metadata": {},
      "source": [
        "### Observations"
      ]
    },
    {
      "attachments": {},
      "cell_type": "markdown",
      "metadata": {},
      "source": [
        "- *What?* is common.\n",
        "- *Who?* is especially common in Sports, Entertainment & Music.\n",
        "- *Why?* is especially common in Politics & Gov't, Society & Culture.\n",
        "- *How?* is especially common in Computers & Internet.\n",
        "- *I* is unexpectedly common across all topics, framing questions with first-person narrative.\n",
        "\n",
        "Questions that start with *I* are indirect and long, requiring sythesis across sentences and interpretation. These are not the best candidates for ICL."
      ]
    },
    {
      "attachments": {},
      "cell_type": "markdown",
      "metadata": {},
      "source": [
        "___"
      ]
    },
    {
      "attachments": {},
      "cell_type": "markdown",
      "metadata": {
        "id": "a5MHpbZ859Er"
      },
      "source": [
        "## Word counts"
      ]
    },
    {
      "cell_type": "code",
      "execution_count": 12,
      "metadata": {
        "id": "wI6WFuu_59Ex"
      },
      "outputs": [
        {
          "data": {
            "application/vnd.jupyter.widget-view+json": {
              "model_id": "7e00d0158d5c4483801ef1f8a5aca492",
              "version_major": 2,
              "version_minor": 0
            },
            "text/plain": [
              "Map:   0%|          | 0/42747 [00:00<?, ? examples/s]"
            ]
          },
          "metadata": {},
          "output_type": "display_data"
        },
        {
          "data": {
            "application/vnd.jupyter.widget-view+json": {
              "model_id": "6869fc4693de4d5086e97999bc708971",
              "version_major": 2,
              "version_minor": 0
            },
            "text/plain": [
              "Map:   0%|          | 0/42747 [00:00<?, ? examples/s]"
            ]
          },
          "metadata": {},
          "output_type": "display_data"
        },
        {
          "data": {
            "application/vnd.jupyter.widget-view+json": {
              "model_id": "ad104f32e6e944308318de43b985de1b",
              "version_major": 2,
              "version_minor": 0
            },
            "text/plain": [
              "Map:   0%|          | 0/42747 [00:00<?, ? examples/s]"
            ]
          },
          "metadata": {},
          "output_type": "display_data"
        },
        {
          "data": {
            "application/vnd.jupyter.widget-view+json": {
              "model_id": "3d95f5f4f75b4eb0816af1bad499631e",
              "version_major": 2,
              "version_minor": 0
            },
            "text/plain": [
              "Map:   0%|          | 0/42747 [00:00<?, ? examples/s]"
            ]
          },
          "metadata": {},
          "output_type": "display_data"
        },
        {
          "data": {
            "application/vnd.jupyter.widget-view+json": {
              "model_id": "c6781eb4d3884cf1a26ab6293c253099",
              "version_major": 2,
              "version_minor": 0
            },
            "text/plain": [
              "Filter:   0%|          | 0/42747 [00:00<?, ? examples/s]"
            ]
          },
          "metadata": {},
          "output_type": "display_data"
        },
        {
          "data": {
            "text/html": [
              "<div>\n",
              "<style scoped>\n",
              "    .dataframe tbody tr th:only-of-type {\n",
              "        vertical-align: middle;\n",
              "    }\n",
              "\n",
              "    .dataframe tbody tr th {\n",
              "        vertical-align: top;\n",
              "    }\n",
              "\n",
              "    .dataframe thead th {\n",
              "        text-align: right;\n",
              "    }\n",
              "</style>\n",
              "<table border=\"1\" class=\"dataframe\">\n",
              "  <thead>\n",
              "    <tr style=\"text-align: right;\">\n",
              "      <th></th>\n",
              "      <th>q_word_count</th>\n",
              "      <th>ans_word_count</th>\n",
              "    </tr>\n",
              "  </thead>\n",
              "  <tbody>\n",
              "    <tr>\n",
              "      <th>count</th>\n",
              "      <td>42631</td>\n",
              "      <td>42631</td>\n",
              "    </tr>\n",
              "    <tr>\n",
              "      <th>mean</th>\n",
              "      <td>10</td>\n",
              "      <td>63</td>\n",
              "    </tr>\n",
              "    <tr>\n",
              "      <th>std</th>\n",
              "      <td>5</td>\n",
              "      <td>91</td>\n",
              "    </tr>\n",
              "    <tr>\n",
              "      <th>min</th>\n",
              "      <td>1</td>\n",
              "      <td>1</td>\n",
              "    </tr>\n",
              "    <tr>\n",
              "      <th>25%</th>\n",
              "      <td>7</td>\n",
              "      <td>14</td>\n",
              "    </tr>\n",
              "    <tr>\n",
              "      <th>50%</th>\n",
              "      <td>10</td>\n",
              "      <td>34</td>\n",
              "    </tr>\n",
              "    <tr>\n",
              "      <th>75%</th>\n",
              "      <td>14</td>\n",
              "      <td>75</td>\n",
              "    </tr>\n",
              "    <tr>\n",
              "      <th>max</th>\n",
              "      <td>30</td>\n",
              "      <td>824</td>\n",
              "    </tr>\n",
              "  </tbody>\n",
              "</table>\n",
              "</div>"
            ],
            "text/plain": [
              "       q_word_count  ans_word_count\n",
              "count         42631           42631\n",
              "mean             10              63\n",
              "std               5              91\n",
              "min               1               1\n",
              "25%               7              14\n",
              "50%              10              34\n",
              "75%              14              75\n",
              "max              30             824"
            ]
          },
          "execution_count": 12,
          "metadata": {},
          "output_type": "execute_result"
        }
      ],
      "source": [
        "ds = word_counts(ds)\n",
        "ds[:][['q_word_count', 'ans_word_count']].describe().astype(int)"
      ]
    },
    {
      "cell_type": "code",
      "execution_count": 13,
      "metadata": {
        "id": "1hWyfoeD59Ey"
      },
      "outputs": [
        {
          "data": {
            "image/png": "[encoded data removed]",
            "text/plain": [
              "<Figure size 500x300 with 1 Axes>"
            ]
          },
          "metadata": {},
          "output_type": "display_data"
        }
      ],
      "source": [
        "ds.set_format('pandas')\n",
        "plt.figure(figsize=(5, 3))\n",
        "plt.title('Question lengths')\n",
        "plt.xlabel('Number of words in question')\n",
        "plt.ylabel('Frequency')\n",
        "plt.hist(ds['q_word_count'], bins=40, range=(0, 40), histtype='bar', rwidth=2)\n",
        "plt.show()"
      ]
    },
    {
      "cell_type": "code",
      "execution_count": 14,
      "metadata": {
        "id": "vysLFUB359Ey"
      },
      "outputs": [
        {
          "data": {
            "image/png": "[encoded data removed]",
            "text/plain": [
              "<Figure size 1000x300 with 1 Axes>"
            ]
          },
          "metadata": {},
          "output_type": "display_data"
        }
      ],
      "source": [
        "plt.figure(figsize=(10, 3))\n",
        "plt.title('Answer lengths')\n",
        "plt.xlabel('Number of words in answer')\n",
        "plt.ylabel('Frequency')\n",
        "plt.hist(ds[:]['ans_word_count'], bins=80, range=(0,400), histtype='bar', rwidth=2)\n",
        "plt.show()\n"
      ]
    },
    {
      "cell_type": "code",
      "execution_count": 15,
      "metadata": {},
      "outputs": [],
      "source": [
        "ds = ds.remove_columns(['q_word_count', 'ans_word_count'])"
      ]
    },
    {
      "attachments": {},
      "cell_type": "markdown",
      "metadata": {},
      "source": [
        "### Observations"
      ]
    },
    {
      "attachments": {},
      "cell_type": "markdown",
      "metadata": {},
      "source": [
        "- RoBERTa has max sequence length of 512 tokens. The majority of these examples would fit.\n",
        "- The proprietary LLMs have context length ranging up to 4096. Multiple of these examples could fit within a single context."
      ]
    },
    {
      "attachments": {},
      "cell_type": "markdown",
      "metadata": {
        "id": "CDfyuLfJ59Ey"
      },
      "source": [
        "___"
      ]
    },
    {
      "attachments": {},
      "cell_type": "markdown",
      "metadata": {},
      "source": [
        "## Conclusions"
      ]
    },
    {
      "attachments": {},
      "cell_type": "markdown",
      "metadata": {},
      "source": [
        "EDA does not determine how a dataset for learning-based ICL would influence a model's output. Even indicators of similarity (between an unlabeled input and a labeled contextual exemplar) and diversity (within the concatenated exemplar set per input) do not determine precisely how well a dataset will work for ICL: the best trade-off between relevance and diversity differs across tasks. The same goes for the number of in-context examples per input. EDA is only a start.\n",
        "\n",
        "Nonetheless, we can draw a few conclusions.\n",
        "- The size and breadth of the Yahoo Answers dataset is its strength, especially for learning-based ICL methods.\n",
        "- The sequence length of tokenized question-answer pairs in this dataset is an appropriate length for the in-context learning methods discussed at the outset, namely CEIL (optimizing the context retriever's subset selection) and SuperICL (fine-tuning RoBERTa in a cascade design).\n",
        "\n",
        "[Rubin et al.](https://aclanthology.org/2022.naacl-main.191/) argue that the best context for ICL is generated by a scoring LLM, separate from the inference LLM. That may be the case. For crowdsourced data, Yahoo Answers provides a large, diverse set.\n",
        "\n",
        "Personally, I would not twist anyone's arm to use this dataset.\n",
        "- It is difficult to fact check.\n",
        "- Other datasets exist -- synthetic or real.\n",
        "- Starting with a small, high-quality dataset seems more reasonable than harvesting a huge, dubious one.\n",
        "- Yahoo shut down the site. Of course, that was in 2021. Still, the decision raises questions."
      ]
    }
  ],
  "metadata": {
    "accelerator": "GPU",
    "colab": {
      "gpuType": "T4",
      "private_outputs": true,
      "provenance": []
    },
    "gpuClass": "standard",
    "kernelspec": {
      "display_name": ".venv",
      "language": "python",
      "name": "python3"
    },
    "language_info": {
      "codemirror_mode": {
        "name": "ipython",
        "version": 3
      },
      "file_extension": ".py",
      "mimetype": "text/x-python",
      "name": "python",
      "nbconvert_exporter": "python",
      "pygments_lexer": "ipython3",
      "version": "3.10.11"
    },
    "orig_nbformat": 4
  },
  "nbformat": 4,
  "nbformat_minor": 0
}
